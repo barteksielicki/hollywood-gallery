{
 "cells": [
  {
   "cell_type": "code",
   "execution_count": 8,
   "metadata": {},
   "outputs": [],
   "source": [
    "from imgaug import augmenters as iaa\n",
    "from matplotlib.image import imread, imsave\n",
    "import numpy as np\n",
    "from os import listdir"
   ]
  },
  {
   "cell_type": "code",
   "execution_count": 9,
   "metadata": {},
   "outputs": [
    {
     "data": {
      "text/plain": [
       "['brad3.jpg', 'brad4.jpg', 'brad5.jpg', 'brad1.jpg', 'brad2.jpg']"
      ]
     },
     "execution_count": 9,
     "metadata": {},
     "output_type": "execute_result"
    }
   ],
   "source": [
    "inputFolder = \"in/\"\n",
    "outputFolder = \"out/\"\n",
    "imgNames = listdir(inputFolder)\n",
    "imgNames"
   ]
  },
  {
   "cell_type": "code",
   "execution_count": 10,
   "metadata": {},
   "outputs": [],
   "source": [
    "seq = iaa.Sequential([A\n",
    "    iaa.Add(value=(-30, 30)),\n",
    "    iaa.GammaContrast(gamma=(0.7, 1.3)),\n",
    "    iaa.JpegCompression(compression=(60, 85))  \n",
    "])"
   ]
  },
  {
   "cell_type": "code",
   "execution_count": 11,
   "metadata": {},
   "outputs": [],
   "source": [
    "images = [imread(inputFolder + imgName) for imgName in imgNames]"
   ]
  },
  {
   "cell_type": "code",
   "execution_count": 12,
   "metadata": {},
   "outputs": [],
   "source": [
    "for i in range(5):\n",
    "    images_aug = seq.augment_images(images)\n",
    "    for indx, img_aug in enumerate(images_aug):\n",
    "        imsave(outputFolder + imgNames[indx].replace(\".jpg\",\"\") + str(i) + '.jpg', img_aug)"
   ]
  },
  {
   "cell_type": "code",
   "execution_count": null,
   "metadata": {},
   "outputs": [],
   "source": []
  }
 ],
 "metadata": {
  "kernelspec": {
   "display_name": "Python 3",
   "language": "python",
   "name": "python3"
  },
  "language_info": {
   "codemirror_mode": {
    "name": "ipython",
    "version": 3
   },
   "file_extension": ".py",
   "mimetype": "text/x-python",
   "name": "python",
   "nbconvert_exporter": "python",
   "pygments_lexer": "ipython3",
   "version": "3.6.5"
  }
 },
 "nbformat": 4,
 "nbformat_minor": 2
}
